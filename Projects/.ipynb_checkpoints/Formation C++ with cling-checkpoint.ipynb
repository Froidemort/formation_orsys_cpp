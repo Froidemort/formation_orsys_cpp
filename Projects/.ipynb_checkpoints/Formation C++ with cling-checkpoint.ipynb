{
 "cells": [
  {
   "cell_type": "code",
   "execution_count": 8,
   "metadata": {},
   "outputs": [],
   "source": [
    "#include <iostream>\n",
    "using namespace std ;\n"
   ]
  },
  {
   "cell_type": "code",
   "execution_count": 9,
   "metadata": {},
   "outputs": [],
   "source": [
    "void main(void) {\n",
    "    int i;\n",
    "    i = 3 ;\n",
    "    int q( 2*i -1) ;\n",
    "    for (i=0; i<q; i++) {\n",
    "        printf(\"i vaut : %i\", i) ;\n",
    "    }\n",
    "    printf(\"i vaut : %i\", i) ;\n",
    "}"
   ]
  },
  {
   "cell_type": "code",
   "execution_count": 12,
   "metadata": {},
   "outputs": [
    {
     "ename": "Standard Exception",
     "evalue": "basic_string::_M_construct null not valid",
     "output_type": "error",
     "traceback": [
      "Standard Exception: basic_string::_M_construct null not valid"
     ]
    }
   ],
   "source": [
    "main() ;"
   ]
  }
 ],
 "metadata": {
  "kernelspec": {
   "display_name": "C++11",
   "language": "C++11",
   "name": "xeus-cling-cpp11"
  },
  "language_info": {
   "codemirror_mode": "text/x-c++src",
   "file_extension": ".cpp",
   "mimetype": "text/x-c++src",
   "name": "c++",
   "version": "-std=c++11"
  }
 },
 "nbformat": 4,
 "nbformat_minor": 2
}
